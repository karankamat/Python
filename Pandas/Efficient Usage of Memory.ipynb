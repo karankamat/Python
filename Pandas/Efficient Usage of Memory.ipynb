{
 "cells": [
  {
   "cell_type": "markdown",
   "id": "8927ad70",
   "metadata": {},
   "source": [
    "## Efficient Memory Usage"
   ]
  },
  {
   "cell_type": "markdown",
   "id": "b3e2680f",
   "metadata": {},
   "source": [
    "##### Importing libraries"
   ]
  },
  {
   "cell_type": "code",
   "execution_count": 1,
   "id": "417339fa",
   "metadata": {},
   "outputs": [],
   "source": [
    "import pandas as pd\n",
    "import numpy as np"
   ]
  },
  {
   "cell_type": "markdown",
   "id": "d6904839",
   "metadata": {},
   "source": [
    "##### Data"
   ]
  },
  {
   "cell_type": "code",
   "execution_count": 2,
   "id": "40c813ad",
   "metadata": {},
   "outputs": [],
   "source": [
    "def getDataset(size):\n",
    "    df = pd.DataFrame()      # Empty DataFrame\n",
    "    df['roll no'] = np.arange(1, size+1)\n",
    "    df['batch'] = np.random.choice(['B1', 'B2', 'B3', 'B4'], size)\n",
    "    df['marks'] = np.random.randint(40, 100, size)\n",
    "    df['age'] = np.random.randint(21, 24, size)\n",
    "    df['pass'] = np.where(df['marks']>40, 'yes', 'no')\n",
    "    df['average'] = df['marks'] / 5\n",
    "    return df"
   ]
  },
  {
   "cell_type": "code",
   "execution_count": 3,
   "id": "034e6fe7",
   "metadata": {},
   "outputs": [
    {
     "name": "stdout",
     "output_type": "stream",
     "text": [
      "<class 'pandas.core.frame.DataFrame'>\n",
      "RangeIndex: 1000000 entries, 0 to 999999\n",
      "Data columns (total 6 columns):\n",
      " #   Column   Non-Null Count    Dtype  \n",
      "---  ------   --------------    -----  \n",
      " 0   roll no  1000000 non-null  int32  \n",
      " 1   batch    1000000 non-null  object \n",
      " 2   marks    1000000 non-null  int32  \n",
      " 3   age      1000000 non-null  int32  \n",
      " 4   pass     1000000 non-null  object \n",
      " 5   average  1000000 non-null  float64\n",
      "dtypes: float64(1), int32(3), object(2)\n",
      "memory usage: 34.3+ MB\n"
     ]
    }
   ],
   "source": [
    "data = getDataset(1000000) # 1 million data points\n",
    "data.info()"
   ]
  },
  {
   "cell_type": "markdown",
   "id": "7263fcde",
   "metadata": {},
   "source": [
    "For 1 million data points the memory usage is ~34MB. Lets try to optimize the memory usage."
   ]
  },
  {
   "cell_type": "markdown",
   "id": "d87170af",
   "metadata": {},
   "source": [
    "    "
   ]
  },
  {
   "cell_type": "markdown",
   "id": "a94bb9a2",
   "metadata": {},
   "source": [
    "Let's find the average marks scored by student across different batches.\n",
    "\n",
    "\n",
    "We will also check the time it took to perform the action."
   ]
  },
  {
   "cell_type": "code",
   "execution_count": 4,
   "id": "db757470",
   "metadata": {},
   "outputs": [
    {
     "name": "stdout",
     "output_type": "stream",
     "text": [
      "67.8 ms ± 2.69 ms per loop (mean ± std. dev. of 7 runs, 10 loops each)\n"
     ]
    }
   ],
   "source": [
    "%timeit data.groupby(['batch'])['marks'].mean()"
   ]
  },
  {
   "cell_type": "markdown",
   "id": "77009d8a",
   "metadata": {},
   "source": [
    "### Casting Categorical Value"
   ]
  },
  {
   "cell_type": "code",
   "execution_count": 5,
   "id": "aadefe44",
   "metadata": {},
   "outputs": [
    {
     "data": {
      "text/plain": [
       "str"
      ]
     },
     "execution_count": 5,
     "metadata": {},
     "output_type": "execute_result"
    }
   ],
   "source": [
    "type(data['batch'][0])"
   ]
  },
  {
   "cell_type": "code",
   "execution_count": 6,
   "id": "1f71f51d",
   "metadata": {},
   "outputs": [
    {
     "name": "stdout",
     "output_type": "stream",
     "text": [
      "<class 'pandas.core.frame.DataFrame'>\n",
      "RangeIndex: 1000000 entries, 0 to 999999\n",
      "Data columns (total 6 columns):\n",
      " #   Column   Non-Null Count    Dtype   \n",
      "---  ------   --------------    -----   \n",
      " 0   roll no  1000000 non-null  int32   \n",
      " 1   batch    1000000 non-null  category\n",
      " 2   marks    1000000 non-null  int32   \n",
      " 3   age      1000000 non-null  int32   \n",
      " 4   pass     1000000 non-null  object  \n",
      " 5   average  1000000 non-null  float64 \n",
      "dtypes: category(1), float64(1), int32(3), object(1)\n",
      "memory usage: 27.7+ MB\n"
     ]
    }
   ],
   "source": [
    "data = getDataset(1000000) \n",
    "data['batch'] = data['batch'].astype('category')\n",
    "data.info()"
   ]
  },
  {
   "cell_type": "markdown",
   "id": "68f1ee19",
   "metadata": {},
   "source": [
    "### Downcasting integer values"
   ]
  },
  {
   "cell_type": "code",
   "execution_count": 7,
   "id": "c3acaee0",
   "metadata": {},
   "outputs": [
    {
     "data": {
      "text/plain": [
       "numpy.int32"
      ]
     },
     "execution_count": 7,
     "metadata": {},
     "output_type": "execute_result"
    }
   ],
   "source": [
    "type(data['age'][0])"
   ]
  },
  {
   "cell_type": "code",
   "execution_count": 8,
   "id": "f6213c41",
   "metadata": {},
   "outputs": [
    {
     "name": "stdout",
     "output_type": "stream",
     "text": [
      "<class 'pandas.core.frame.DataFrame'>\n",
      "RangeIndex: 1000000 entries, 0 to 999999\n",
      "Data columns (total 6 columns):\n",
      " #   Column   Non-Null Count    Dtype   \n",
      "---  ------   --------------    -----   \n",
      " 0   roll no  1000000 non-null  int8    \n",
      " 1   batch    1000000 non-null  category\n",
      " 2   marks    1000000 non-null  int32   \n",
      " 3   age      1000000 non-null  int8    \n",
      " 4   pass     1000000 non-null  object  \n",
      " 5   average  1000000 non-null  float64 \n",
      "dtypes: category(1), float64(1), int32(1), int8(2), object(1)\n",
      "memory usage: 21.9+ MB\n"
     ]
    }
   ],
   "source": [
    "data['age'] = data['age'].astype('int8')\n",
    "data['roll no'] = data['roll no'].astype('int8')\n",
    "data.info()"
   ]
  },
  {
   "cell_type": "markdown",
   "id": "c048c0f3",
   "metadata": {},
   "source": [
    "### Downcasting float values"
   ]
  },
  {
   "cell_type": "code",
   "execution_count": 9,
   "id": "d8fc8acb",
   "metadata": {},
   "outputs": [
    {
     "data": {
      "text/plain": [
       "numpy.float64"
      ]
     },
     "execution_count": 9,
     "metadata": {},
     "output_type": "execute_result"
    }
   ],
   "source": [
    "type(data['average'][0])"
   ]
  },
  {
   "cell_type": "code",
   "execution_count": 10,
   "id": "2f1d0650",
   "metadata": {},
   "outputs": [],
   "source": [
    "data['average'] = data['average'].astype('float16')"
   ]
  },
  {
   "cell_type": "code",
   "execution_count": 11,
   "id": "a874355c",
   "metadata": {},
   "outputs": [
    {
     "name": "stdout",
     "output_type": "stream",
     "text": [
      "<class 'pandas.core.frame.DataFrame'>\n",
      "RangeIndex: 1000000 entries, 0 to 999999\n",
      "Data columns (total 6 columns):\n",
      " #   Column   Non-Null Count    Dtype   \n",
      "---  ------   --------------    -----   \n",
      " 0   roll no  1000000 non-null  int8    \n",
      " 1   batch    1000000 non-null  category\n",
      " 2   marks    1000000 non-null  int32   \n",
      " 3   age      1000000 non-null  int8    \n",
      " 4   pass     1000000 non-null  object  \n",
      " 5   average  1000000 non-null  float16 \n",
      "dtypes: category(1), float16(1), int32(1), int8(2), object(1)\n",
      "memory usage: 16.2+ MB\n"
     ]
    }
   ],
   "source": [
    "data.info()"
   ]
  },
  {
   "cell_type": "markdown",
   "id": "5304996e",
   "metadata": {},
   "source": [
    "### Casting bool types"
   ]
  },
  {
   "cell_type": "code",
   "execution_count": 12,
   "id": "4d5bfbb8",
   "metadata": {},
   "outputs": [
    {
     "data": {
      "text/plain": [
       "yes    983303\n",
       "no      16697\n",
       "Name: pass, dtype: int64"
      ]
     },
     "execution_count": 12,
     "metadata": {},
     "output_type": "execute_result"
    }
   ],
   "source": [
    "data['pass'].value_counts()"
   ]
  },
  {
   "cell_type": "code",
   "execution_count": 13,
   "id": "b36bb856",
   "metadata": {},
   "outputs": [
    {
     "name": "stdout",
     "output_type": "stream",
     "text": [
      "<class 'pandas.core.frame.DataFrame'>\n",
      "RangeIndex: 1000000 entries, 0 to 999999\n",
      "Data columns (total 6 columns):\n",
      " #   Column   Non-Null Count    Dtype   \n",
      "---  ------   --------------    -----   \n",
      " 0   roll no  1000000 non-null  int8    \n",
      " 1   batch    1000000 non-null  category\n",
      " 2   marks    1000000 non-null  int32   \n",
      " 3   age      1000000 non-null  int8    \n",
      " 4   pass     1000000 non-null  bool    \n",
      " 5   average  1000000 non-null  float16 \n",
      "dtypes: bool(1), category(1), float16(1), int32(1), int8(2)\n",
      "memory usage: 9.5 MB\n"
     ]
    }
   ],
   "source": [
    "data['pass'] = data['pass'].map({'yes': True, 'no': False})\n",
    "data.info()"
   ]
  },
  {
   "cell_type": "code",
   "execution_count": 14,
   "id": "461019e3",
   "metadata": {},
   "outputs": [],
   "source": [
    "def setTypes(df):\n",
    "    df['batch'] = df['batch'].astype('category')\n",
    "    df['pass'] = df['pass'].map({'yes': True, 'no': False})\n",
    "    df['average'] = df['average'].astype('float16')\n",
    "    df['age'] = df['age'].astype('int8')\n",
    "    df['marks'] = df['marks'].astype('int8')\n",
    "    df['roll no'] = df['roll no'].astype('int8')\n",
    "    \n",
    "    return df"
   ]
  },
  {
   "cell_type": "code",
   "execution_count": 15,
   "id": "8a1961fc",
   "metadata": {},
   "outputs": [
    {
     "name": "stdout",
     "output_type": "stream",
     "text": [
      "<class 'pandas.core.frame.DataFrame'>\n",
      "RangeIndex: 1000000 entries, 0 to 999999\n",
      "Data columns (total 6 columns):\n",
      " #   Column   Non-Null Count    Dtype   \n",
      "---  ------   --------------    -----   \n",
      " 0   roll no  1000000 non-null  int8    \n",
      " 1   batch    1000000 non-null  category\n",
      " 2   marks    1000000 non-null  int8    \n",
      " 3   age      1000000 non-null  int8    \n",
      " 4   pass     1000000 non-null  bool    \n",
      " 5   average  1000000 non-null  float16 \n",
      "dtypes: bool(1), category(1), float16(1), int8(3)\n",
      "memory usage: 6.7 MB\n"
     ]
    }
   ],
   "source": [
    "data = getDataset(1000000)\n",
    "data = setTypes(data)\n",
    "data.info()"
   ]
  },
  {
   "cell_type": "code",
   "execution_count": 16,
   "id": "87eeeec9",
   "metadata": {},
   "outputs": [
    {
     "name": "stdout",
     "output_type": "stream",
     "text": [
      "10.8 ms ± 312 µs per loop (mean ± std. dev. of 7 runs, 100 loops each)\n"
     ]
    }
   ],
   "source": [
    "%timeit data.groupby(['batch'])['marks'].mean()"
   ]
  },
  {
   "cell_type": "markdown",
   "id": "cbbbd653",
   "metadata": {},
   "source": [
    " "
   ]
  },
  {
   "cell_type": "markdown",
   "id": "a2dacbbb",
   "metadata": {},
   "source": [
    "#### By casting the datatypes we brought down the memory usage by ~80% from 34.3MB to 6.7MB. It also speeds up the grouping operation by ~85%."
   ]
  },
  {
   "cell_type": "code",
   "execution_count": null,
   "id": "53f1f9f8",
   "metadata": {},
   "outputs": [],
   "source": []
  }
 ],
 "metadata": {
  "kernelspec": {
   "display_name": "daps",
   "language": "python",
   "name": "daps"
  },
  "language_info": {
   "codemirror_mode": {
    "name": "ipython",
    "version": 3
   },
   "file_extension": ".py",
   "mimetype": "text/x-python",
   "name": "python",
   "nbconvert_exporter": "python",
   "pygments_lexer": "ipython3",
   "version": "3.7.1"
  }
 },
 "nbformat": 4,
 "nbformat_minor": 5
}
